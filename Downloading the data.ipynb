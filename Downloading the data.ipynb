{
 "cells": [
  {
   "cell_type": "markdown",
   "metadata": {},
   "source": [
    "98106434 -> Mohammad Khodadadi Aski\n",
    "<br>\n",
    "98105919 -> Reza Erfan Arani\n",
    "<br>\n",
    "         -> Mohammadreza Daviran\n",
    "<br>\n",
    "\n",
    "In order to run the code , you should run the bellow commands on CMD :\n",
    "pip install hazm\n",
    "pip install selenium\n",
    "pip install bs4\n",
    "We use the BeautifulSoup in order to extraxt data from the request we send to the website .\n",
    ".strip method removes any unexpected and useless whitespace"
   ]
  },
  {
   "cell_type": "code",
   "execution_count": 1,
   "metadata": {},
   "outputs": [],
   "source": [
    "import requests\n",
    "from bs4 import BeautifulSoup\n",
    "url = \"https://fa.wikibooks.org/wiki/%DA%A9%D8%AA%D8%A7%D8%A8_%D8%A2%D8%B4%D9%BE%D8%B2%DB%8C/%D9%81%D9%87%D8%B1%D8%B3%D8%AA_%D8%BA%D8%B0%D8%A7%D9%87%D8%A7%DB%8C_%D9%85%D8%AD%D9%84%DB%8C_%D8%A7%DB%8C%D8%B1%D8%A7%D9%86\"\n",
    "page = requests.get(url)\n",
    "soup = BeautifulSoup(page.content, 'html.parser')\n",
    "title = soup.title.text # gets you the text of the <title>(...)</title>\n",
    "body = soup.body.text\n",
    "#print(body)\n",
    "#print(soup.head.text.strip)"
   ]
  },
  {
   "cell_type": "markdown",
   "metadata": {},
   "source": [
    "then we try to extract the links in the page we requested previously\n",
    "we found the index manually by checking the text of the link and the resault was : the elements of 4th to 427th\n",
    "also we could select the link with .get(\"href\") command."
   ]
  },
  {
   "cell_type": "code",
   "execution_count": 2,
   "metadata": {},
   "outputs": [
    {
     "name": "stdout",
     "output_type": "stream",
     "text": [
      "{'href': '/wiki/%DA%A9%D8%AA%D8%A7%D8%A8_%D8%A2%D8%B4%D9%BE%D8%B2%DB%8C/%D8%A2%D8%A8%DA%AF%D9%88%D8%B4%D8%AA_%D8%AF%DB%8C%D8%B2%DB%8C_%D8%B3%D9%86%DA%AF%DB%8C_%D8%AA%D8%A8%D8%B1%DB%8C%D8%B2%DB%8C', 'text': 'آبگوشت دیزی سنگی تبریزی'}\n",
      "/wiki/%DA%A9%D8%AA%D8%A7%D8%A8_%D8%A2%D8%B4%D9%BE%D8%B2%DB%8C/%DB%8C%D8%A7%D8%B1%D9%85%D9%87_%D9%BE%D9%84%D9%88\n"
     ]
    }
   ],
   "source": [
    "all_links = []\n",
    "\n",
    "# Extract and store in top_items according to instructions on the left\n",
    "links = soup.select('a')\n",
    "for ahref in links:\n",
    "    text = ahref.text\n",
    "    text = text.strip() if text is not None else ''\n",
    "\n",
    "    href = ahref.get('href')\n",
    "    href = href.strip() if href is not None else ''\n",
    "    all_links.append({\"href\": href, \"text\": text})\n",
    "\n",
    "print(all_links[4])\n",
    "print(all_links[427].get(\"href\"))\n"
   ]
  },
  {
   "cell_type": "markdown",
   "metadata": {},
   "source": [
    "now that we have all the links , we will traverse through the link and select the items one by one "
   ]
  },
  {
   "cell_type": "code",
   "execution_count": 4,
   "metadata": {},
   "outputs": [
    {
     "ename": "ValueError",
     "evalue": "substring not found",
     "output_type": "error",
     "traceback": [
      "\u001b[1;31m---------------------------------------------------------------------------\u001b[0m",
      "\u001b[1;31mValueError\u001b[0m                                Traceback (most recent call last)",
      "\u001b[1;32mC:\\Users\\ADMINI~1\\AppData\\Local\\Temp/ipykernel_7628/1220052224.py\u001b[0m in \u001b[0;36m<module>\u001b[1;34m\u001b[0m\n\u001b[0;32m     10\u001b[0m     \u001b[0mrecipes\u001b[0m \u001b[1;33m=\u001b[0m \u001b[0msoup\u001b[0m\u001b[1;33m.\u001b[0m\u001b[0mselect\u001b[0m\u001b[1;33m(\u001b[0m\u001b[1;34m'div.mw-body-content'\u001b[0m\u001b[1;33m)\u001b[0m\u001b[1;33m\u001b[0m\u001b[1;33m\u001b[0m\u001b[0m\n\u001b[0;32m     11\u001b[0m     \u001b[0mrecipe\u001b[0m \u001b[1;33m=\u001b[0m \u001b[0mrecipes\u001b[0m\u001b[1;33m[\u001b[0m\u001b[1;36m0\u001b[0m\u001b[1;33m]\u001b[0m\u001b[1;33m.\u001b[0m\u001b[0mtext\u001b[0m\u001b[1;33m\u001b[0m\u001b[1;33m\u001b[0m\u001b[0m\n\u001b[1;32m---> 12\u001b[1;33m     \u001b[0mindex\u001b[0m \u001b[1;33m=\u001b[0m \u001b[0mrecipe\u001b[0m\u001b[1;33m.\u001b[0m\u001b[0mrindex\u001b[0m\u001b[1;33m(\u001b[0m\u001b[1;34m'جستار'\u001b[0m\u001b[1;33m)\u001b[0m\u001b[1;33m\u001b[0m\u001b[1;33m\u001b[0m\u001b[0m\n\u001b[0m\u001b[0;32m     13\u001b[0m     \u001b[0mrecipe\u001b[0m \u001b[1;33m=\u001b[0m \u001b[0mrecipe\u001b[0m\u001b[1;33m[\u001b[0m\u001b[1;33m:\u001b[0m\u001b[0mindex\u001b[0m\u001b[1;33m-\u001b[0m\u001b[1;36m1\u001b[0m\u001b[1;33m]\u001b[0m\u001b[1;33m.\u001b[0m\u001b[0mstrip\u001b[0m\u001b[1;33m(\u001b[0m\u001b[1;33m)\u001b[0m\u001b[1;33m\u001b[0m\u001b[1;33m\u001b[0m\u001b[0m\n\u001b[0;32m     14\u001b[0m     \u001b[0mrecipe\u001b[0m \u001b[1;33m=\u001b[0m \u001b[0mrecipe\u001b[0m\u001b[1;33m.\u001b[0m\u001b[0mreplace\u001b[0m\u001b[1;33m(\u001b[0m\u001b[1;34m\"[ویرایش]\"\u001b[0m\u001b[1;33m,\u001b[0m \u001b[1;34m\"\"\u001b[0m\u001b[1;33m)\u001b[0m\u001b[1;33m\u001b[0m\u001b[1;33m\u001b[0m\u001b[0m\n",
      "\u001b[1;31mValueError\u001b[0m: substring not found"
     ]
    }
   ],
   "source": [
    "final_dict = {}\n",
    "\n",
    "for i in range(4,428):\n",
    "    current_url = \"https://fa.wikibooks.org/\" + all_links[i].get(\"href\")\n",
    "    page = requests.get(current_url)\n",
    "    soup = BeautifulSoup(page.content, 'html.parser')\n",
    "    body = soup.body.text\n",
    "    title = soup.title.text\n",
    "    title = (title[title.index(\"/\")+1:title.index(\"-\")]).strip()\n",
    "    recipes = soup.select('div.mw-body-content')\n",
    "    recipe = recipes[0].text\n",
    "    index = recipe.rindex('جستار')\n",
    "    recipe = recipe[:index-1].strip()\n",
    "    recipe = recipe.replace(\"[ویرایش]\", \"\")\n",
    "    final_dict.update({title: recipe})\n",
    "final_dict\n",
    "# print(soup.title.text[start+1:end].strip())"
   ]
  }
 ],
 "metadata": {
  "interpreter": {
   "hash": "1baa965d5efe3ac65b79dfc60c0d706280b1da80fedb7760faf2759126c4f253"
  },
  "kernelspec": {
   "display_name": "Python 3",
   "language": "python",
   "name": "python3"
  },
  "language_info": {
   "codemirror_mode": {
    "name": "ipython",
    "version": 3
   },
   "file_extension": ".py",
   "mimetype": "text/x-python",
   "name": "python",
   "nbconvert_exporter": "python",
   "pygments_lexer": "ipython3",
   "version": "3.8.8"
  }
 },
 "nbformat": 4,
 "nbformat_minor": 2
}
